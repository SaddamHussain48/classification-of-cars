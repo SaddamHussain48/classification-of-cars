{
 "cells": [
  {
   "cell_type": "code",
   "execution_count": 20,
   "metadata": {},
   "outputs": [],
   "source": [
    "import numpy as np \n",
    "import pandas as pd\n",
    "from sklearn.tree import DecisionTreeClassifier"
   ]
  },
  {
   "cell_type": "code",
   "execution_count": 21,
   "metadata": {},
   "outputs": [
    {
     "data": {
      "text/html": [
       "<div>\n",
       "<style scoped>\n",
       "    .dataframe tbody tr th:only-of-type {\n",
       "        vertical-align: middle;\n",
       "    }\n",
       "\n",
       "    .dataframe tbody tr th {\n",
       "        vertical-align: top;\n",
       "    }\n",
       "\n",
       "    .dataframe thead th {\n",
       "        text-align: right;\n",
       "    }\n",
       "</style>\n",
       "<table border=\"1\" class=\"dataframe\">\n",
       "  <thead>\n",
       "    <tr style=\"text-align: right;\">\n",
       "      <th></th>\n",
       "      <th>Car</th>\n",
       "      <th>MPG</th>\n",
       "      <th>Cylinders</th>\n",
       "      <th>Displacement</th>\n",
       "      <th>Horsepower</th>\n",
       "      <th>Weight</th>\n",
       "      <th>Acceleration</th>\n",
       "      <th>Model</th>\n",
       "      <th>Origin</th>\n",
       "    </tr>\n",
       "  </thead>\n",
       "  <tbody>\n",
       "    <tr>\n",
       "      <th>0</th>\n",
       "      <td>STRING</td>\n",
       "      <td>DOUBLE</td>\n",
       "      <td>INT</td>\n",
       "      <td>DOUBLE</td>\n",
       "      <td>DOUBLE</td>\n",
       "      <td>DOUBLE</td>\n",
       "      <td>DOUBLE</td>\n",
       "      <td>INT</td>\n",
       "      <td>CAT</td>\n",
       "    </tr>\n",
       "    <tr>\n",
       "      <th>1</th>\n",
       "      <td>Chevrolet Chevelle Malibu</td>\n",
       "      <td>18</td>\n",
       "      <td>8</td>\n",
       "      <td>307</td>\n",
       "      <td>130</td>\n",
       "      <td>3504</td>\n",
       "      <td>12</td>\n",
       "      <td>70</td>\n",
       "      <td>US</td>\n",
       "    </tr>\n",
       "    <tr>\n",
       "      <th>2</th>\n",
       "      <td>Buick Skylark 320</td>\n",
       "      <td>15</td>\n",
       "      <td>8</td>\n",
       "      <td>350</td>\n",
       "      <td>165</td>\n",
       "      <td>3693</td>\n",
       "      <td>11.5</td>\n",
       "      <td>70</td>\n",
       "      <td>US</td>\n",
       "    </tr>\n",
       "    <tr>\n",
       "      <th>3</th>\n",
       "      <td>Plymouth Satellite</td>\n",
       "      <td>18</td>\n",
       "      <td>8</td>\n",
       "      <td>318</td>\n",
       "      <td>150</td>\n",
       "      <td>3436</td>\n",
       "      <td>11</td>\n",
       "      <td>70</td>\n",
       "      <td>US</td>\n",
       "    </tr>\n",
       "    <tr>\n",
       "      <th>4</th>\n",
       "      <td>AMC Rebel SST</td>\n",
       "      <td>16</td>\n",
       "      <td>8</td>\n",
       "      <td>304</td>\n",
       "      <td>150</td>\n",
       "      <td>3433</td>\n",
       "      <td>12</td>\n",
       "      <td>70</td>\n",
       "      <td>US</td>\n",
       "    </tr>\n",
       "  </tbody>\n",
       "</table>\n",
       "</div>"
      ],
      "text/plain": [
       "                         Car     MPG Cylinders Displacement Horsepower  \\\n",
       "0                     STRING  DOUBLE       INT       DOUBLE     DOUBLE   \n",
       "1  Chevrolet Chevelle Malibu      18         8          307        130   \n",
       "2          Buick Skylark 320      15         8          350        165   \n",
       "3         Plymouth Satellite      18         8          318        150   \n",
       "4              AMC Rebel SST      16         8          304        150   \n",
       "\n",
       "   Weight Acceleration Model Origin  \n",
       "0  DOUBLE       DOUBLE   INT    CAT  \n",
       "1    3504           12    70     US  \n",
       "2    3693         11.5    70     US  \n",
       "3    3436           11    70     US  \n",
       "4    3433           12    70     US  "
      ]
     },
     "execution_count": 21,
     "metadata": {},
     "output_type": "execute_result"
    }
   ],
   "source": [
    "my_data = pd.read_csv(\"cars.csv\", delimiter=\",\")\n",
    "my_data[0:5]"
   ]
  },
  {
   "cell_type": "code",
   "execution_count": 22,
   "metadata": {},
   "outputs": [
    {
     "data": {
      "text/plain": [
       "US        254\n",
       "Japan      79\n",
       "Europe     73\n",
       "CAT         1\n",
       "Name: Origin, dtype: int64"
      ]
     },
     "execution_count": 22,
     "metadata": {},
     "output_type": "execute_result"
    }
   ],
   "source": [
    "my_data['Origin'].value_counts()"
   ]
  },
  {
   "cell_type": "code",
   "execution_count": 23,
   "metadata": {},
   "outputs": [
    {
     "data": {
      "text/html": [
       "<div>\n",
       "<style scoped>\n",
       "    .dataframe tbody tr th:only-of-type {\n",
       "        vertical-align: middle;\n",
       "    }\n",
       "\n",
       "    .dataframe tbody tr th {\n",
       "        vertical-align: top;\n",
       "    }\n",
       "\n",
       "    .dataframe thead th {\n",
       "        text-align: right;\n",
       "    }\n",
       "</style>\n",
       "<table border=\"1\" class=\"dataframe\">\n",
       "  <thead>\n",
       "    <tr style=\"text-align: right;\">\n",
       "      <th></th>\n",
       "      <th>Car</th>\n",
       "      <th>MPG</th>\n",
       "      <th>Cylinders</th>\n",
       "      <th>Displacement</th>\n",
       "      <th>Horsepower</th>\n",
       "      <th>Weight</th>\n",
       "      <th>Acceleration</th>\n",
       "      <th>Model</th>\n",
       "      <th>Origin</th>\n",
       "    </tr>\n",
       "  </thead>\n",
       "  <tbody>\n",
       "    <tr>\n",
       "      <th>1</th>\n",
       "      <td>Chevrolet Chevelle Malibu</td>\n",
       "      <td>18</td>\n",
       "      <td>8</td>\n",
       "      <td>307</td>\n",
       "      <td>130</td>\n",
       "      <td>3504</td>\n",
       "      <td>12</td>\n",
       "      <td>70</td>\n",
       "      <td>US</td>\n",
       "    </tr>\n",
       "    <tr>\n",
       "      <th>2</th>\n",
       "      <td>Buick Skylark 320</td>\n",
       "      <td>15</td>\n",
       "      <td>8</td>\n",
       "      <td>350</td>\n",
       "      <td>165</td>\n",
       "      <td>3693</td>\n",
       "      <td>11.5</td>\n",
       "      <td>70</td>\n",
       "      <td>US</td>\n",
       "    </tr>\n",
       "    <tr>\n",
       "      <th>3</th>\n",
       "      <td>Plymouth Satellite</td>\n",
       "      <td>18</td>\n",
       "      <td>8</td>\n",
       "      <td>318</td>\n",
       "      <td>150</td>\n",
       "      <td>3436</td>\n",
       "      <td>11</td>\n",
       "      <td>70</td>\n",
       "      <td>US</td>\n",
       "    </tr>\n",
       "    <tr>\n",
       "      <th>4</th>\n",
       "      <td>AMC Rebel SST</td>\n",
       "      <td>16</td>\n",
       "      <td>8</td>\n",
       "      <td>304</td>\n",
       "      <td>150</td>\n",
       "      <td>3433</td>\n",
       "      <td>12</td>\n",
       "      <td>70</td>\n",
       "      <td>US</td>\n",
       "    </tr>\n",
       "    <tr>\n",
       "      <th>5</th>\n",
       "      <td>Ford Torino</td>\n",
       "      <td>17</td>\n",
       "      <td>8</td>\n",
       "      <td>302</td>\n",
       "      <td>140</td>\n",
       "      <td>3449</td>\n",
       "      <td>10.5</td>\n",
       "      <td>70</td>\n",
       "      <td>US</td>\n",
       "    </tr>\n",
       "  </tbody>\n",
       "</table>\n",
       "</div>"
      ],
      "text/plain": [
       "                         Car MPG Cylinders Displacement Horsepower Weight  \\\n",
       "1  Chevrolet Chevelle Malibu  18         8          307        130   3504   \n",
       "2          Buick Skylark 320  15         8          350        165   3693   \n",
       "3         Plymouth Satellite  18         8          318        150   3436   \n",
       "4              AMC Rebel SST  16         8          304        150   3433   \n",
       "5                Ford Torino  17         8          302        140   3449   \n",
       "\n",
       "  Acceleration Model Origin  \n",
       "1           12    70     US  \n",
       "2         11.5    70     US  \n",
       "3           11    70     US  \n",
       "4           12    70     US  \n",
       "5         10.5    70     US  "
      ]
     },
     "execution_count": 23,
     "metadata": {},
     "output_type": "execute_result"
    }
   ],
   "source": [
    "data = my_data.drop(index=0)\n",
    "data.head()"
   ]
  },
  {
   "cell_type": "code",
   "execution_count": 24,
   "metadata": {},
   "outputs": [
    {
     "data": {
      "text/plain": [
       "Index(['Car', 'MPG', 'Cylinders', 'Displacement', 'Horsepower', 'Weight',\n",
       "       'Acceleration', 'Model', 'Origin'],\n",
       "      dtype='object')"
      ]
     },
     "execution_count": 24,
     "metadata": {},
     "output_type": "execute_result"
    }
   ],
   "source": [
    "data.columns"
   ]
  },
  {
   "cell_type": "code",
   "execution_count": 25,
   "metadata": {},
   "outputs": [
    {
     "data": {
      "text/plain": [
       "array(['Chevrolet Chevelle Malibu', 'Buick Skylark 320',\n",
       "       'Plymouth Satellite', 'AMC Rebel SST', 'Ford Torino',\n",
       "       'Ford Galaxie 500', 'Chevrolet Impala', 'Plymouth Fury iii',\n",
       "       'Pontiac Catalina', 'AMC Ambassador DPL', 'Citroen DS-21 Pallas',\n",
       "       'Chevrolet Chevelle Concours (sw)', 'Ford Torino (sw)',\n",
       "       'Plymouth Satellite (sw)', 'AMC Rebel SST (sw)',\n",
       "       'Dodge Challenger SE', \"Plymouth 'Cuda 340\",\n",
       "       'Ford Mustang Boss 302', 'Chevrolet Monte Carlo',\n",
       "       'Buick Estate Wagon (sw)', 'Toyota Corolla Mark ii',\n",
       "       'Plymouth Duster', 'AMC Hornet', 'Ford Maverick', 'Datsun PL510',\n",
       "       'Volkswagen 1131 Deluxe Sedan', 'Peugeot 504', 'Audi 100 LS',\n",
       "       'Saab 99e', 'BMW 2002', 'AMC Gremlin', 'Ford F250', 'Chevy C20',\n",
       "       'Dodge D200', 'Hi 1200D', 'Chevrolet Vega 2300', 'Toyota Corolla',\n",
       "       'Ford Pinto', 'Volkswagen Super Beetle 117',\n",
       "       'Plymouth Satellite Custom', 'Ford Torino 500', 'AMC Matador',\n",
       "       'Pontiac Catalina Brougham', 'Dodge Monaco (sw)',\n",
       "       'Ford Country Squire (sw)', 'Pontiac Safari (sw)',\n",
       "       'AMC Hornet Sportabout (sw)', 'Chevrolet Vega (sw)',\n",
       "       'Pontiac Firebird', 'Ford Mustang', 'Mercury Capri 2000',\n",
       "       'Opel 1900', 'Peugeot 304', 'Fiat 124B', 'Toyota Corolla 1200',\n",
       "       'Datsun 1200', 'Volkswagen Model 111', 'Plymouth Cricket',\n",
       "       'Toyota Corolla Hardtop', 'Dodge Colt Hardtop', 'Volkswagen Type 3',\n",
       "       'Chevrolet Vega', 'Ford Pinto Runabout', 'Plymouth Fury III',\n",
       "       'AMC Ambassador SST', 'Mercury Marquis', 'Buick LeSabre Custom',\n",
       "       'Oldsmobile Delta 88 Royale', 'Chrysler Newport Royal',\n",
       "       'Mazda RX2 Coupe', 'AMC Matador (sw)', 'Ford Gran Torino (sw)',\n",
       "       'Plymouth Satellite Custom (sw)', 'Volvo 145e (sw)',\n",
       "       'Volkswagen 411 (sw)', 'Peugeot 504 (sw)', 'Renault 12 (sw)',\n",
       "       'Ford Pinto (sw)', 'Datsun 510 (sw)', 'Toyota Corolla Mark II (sw)',\n",
       "       'Dodge Colt (sw)', 'Toyota Corolla 1600 (sw)', 'Buick Century 350',\n",
       "       'Chevrolet Malibu', 'Ford Gran Torino', 'Dodge Coronet Custom',\n",
       "       'Mercury Marquis Brougham', 'Chevrolet Caprice Classic', 'Ford LTD',\n",
       "       'Plymouth Fury Gran Sedan', 'Chrysler New Yorker Brougham',\n",
       "       'Buick Electra 225 Custom', 'AMC Ambassador Brougham',\n",
       "       'Plymouth Valiant', 'Chevrolet Nova Custom',\n",
       "       'Volkswagen Super Beetle', 'Ford Country', 'Plymouth Custom Suburb',\n",
       "       'Oldsmobile Vista Cruiser', 'Toyota Camry', 'Datsun 610',\n",
       "       'Mazda RX3', 'Mercury Capri v6', 'Fiat 124 Sport Coupe',\n",
       "       'Chevrolet Monte Carlo S', 'Pontiac Grand Prix', 'Fiat 128',\n",
       "       'Opel Manta', 'Audi 100LS', 'Volvo 144ea', 'Dodge Dart Custom',\n",
       "       'Saab 99le', 'Toyota Mark II', 'Oldsmobile Omega', 'Chevrolet Nova',\n",
       "       'Datsun B210', 'Chevrolet Chevelle Malibu Classic',\n",
       "       'Plymouth Satellite Sebring', 'Buick Century Luxus (sw)',\n",
       "       'Dodge Coronet Custom (sw)', 'Audi Fox', 'Volkswagen Dasher',\n",
       "       'Datsun 710', 'Dodge Colt', 'Fiat 124 TC', 'Honda Civic', 'Subaru',\n",
       "       'Fiat x1.9', 'Plymouth Valiant Custom', 'Mercury Monarch',\n",
       "       'Chevrolet Bel Air', 'Plymouth Grand Fury', 'Buick Century',\n",
       "       'Chevrolete Chevelle Malibu', 'Plymouth Fury', 'Buick Skyhawk',\n",
       "       'Chevrolet Monza 2+2', 'Ford Mustang II', 'Pontiac Astro',\n",
       "       'Volkswagen Rabbit', 'AMC Pacer', 'Volvo 244DL', 'Saab 99LE',\n",
       "       'Honda Civic CVCC', 'Fiat 131', 'Capri ii', 'Renault 12tl',\n",
       "       'Dodge Coronet Brougham', 'Chevrolet Chevette', 'Chevrolet Woody',\n",
       "       'Dodge Aspen SE', 'Ford Grenada ghia', 'Pontiac Ventura SJ',\n",
       "       'AMC Pacer d/l', 'Datsun B-210', 'Volvo 245',\n",
       "       'Plymouth Volare Premier v8', 'Mercedes-Benz 280s',\n",
       "       'Cadillac Seville', 'Chevrolet C10', 'Ford F108', 'Dodge D100',\n",
       "       'Honda Accord CVCC', 'Buick Opel Isuzu Deluxe', 'Renault 5 GTL',\n",
       "       'Plymouth Arrow GS', 'Datsun F-10 Hatchback',\n",
       "       'Oldsmobile Cutlass Supreme', 'Dodge Monaco Brougham',\n",
       "       'Mercury Cougar Brougham', 'Chevrolet Concours', 'Buick Skylark',\n",
       "       'Plymouth Volare Custom', 'Ford Grenada', 'Pontiac Grand Prix LJ',\n",
       "       'Chevrolet Monte Carlo Landau', 'Chrysler Cordoba',\n",
       "       'Ford Thunderbird', 'Volkswagen Rabbit Custom',\n",
       "       'Pontiac Sunbird Coupe', 'Toyota Corolla Liftback',\n",
       "       'Ford Mustang II 2+2', 'Dodge Colt m/m', 'Subaru DL', 'Datsun 810',\n",
       "       'BMW 320i', 'Mazda RX-4', 'Volkswagen Rabbit Custom Diesel',\n",
       "       'Ford Fiesta', 'Mazda GLC Deluxe', 'Datsun B210 GX',\n",
       "       'Oldsmobile Cutlass Salon Brougham', 'Dodge Diplomat',\n",
       "       'Mercury Monarch ghia', 'Pontiac Phoenix LJ',\n",
       "       'Ford Fairmont (auto)', 'Ford Fairmont (man)', 'Plymouth Volare',\n",
       "       'AMC Concord', 'Buick Century Special', 'Mercury Zephyr',\n",
       "       'Dodge Aspen', 'AMC Concord d/l', 'Buick Regal Sport Coupe (turbo)',\n",
       "       'Ford Futura', 'Dodge Magnum XE', 'Datsun 510', 'Dodge Omni',\n",
       "       'Toyota Celica GT Liftback', 'Plymouth Sapporo',\n",
       "       'Oldsmobile Starfire SX', 'Datsun 200-SX', 'Audi 5000',\n",
       "       'Volvo 264gl', 'Saab 99gle', 'Peugeot 604sl', 'Volkswagen Scirocco',\n",
       "       'Honda Accord LX', 'Pontiac Lemans V6', 'Mercury Zephyr 6',\n",
       "       'Ford Fairmont 4', 'AMC Concord DL 6', 'Dodge Aspen 6',\n",
       "       'Ford LTD Landau', 'Mercury Grand Marquis', 'Dodge St. Regis',\n",
       "       'Chevrolet Malibu Classic (sw)',\n",
       "       'Chrysler Lebaron Town @ Country (sw)',\n",
       "       'Dodge Colt Hatchback Custom', 'AMC Spirit DL',\n",
       "       'Mercedes Benz 300d', 'Cadillac Eldorado', 'Plymouth Horizon',\n",
       "       'Plymouth Horizon TC3', 'Datsun 210', 'Fiat Strada Custom',\n",
       "       'Buick Skylark Limited', 'Chevrolet Citation',\n",
       "       'Oldsmobile Omega Brougham', 'Pontiac Phoenix',\n",
       "       'Toyota Corolla Tercel', 'Datsun 310', 'Ford Fairmont', 'Audi 4000',\n",
       "       'Mazda 626', 'Datsun 510 Hatchback', 'Mazda GLC',\n",
       "       'Volkswagen Rabbit C (Diesel)', 'Volkswagen Dasher (diesel)',\n",
       "       'Audi 5000s (diesel)', 'Mercedes-Benz 240d', 'Honda Civic 1500 gl',\n",
       "       'Renault Lecar Deluxe', 'Datsun 280-ZX', 'Mazda RX-7 GS',\n",
       "       'Triumph TR7 Coupe', 'Ford Mustang Cobra', 'Honda Accord',\n",
       "       'Plymouth Reliant', 'Dodge Aries Wagon (sw)', 'Toyota Starlet',\n",
       "       'Plymouth Champ', 'Honda Civic 1300', 'Datsun 210 MPG',\n",
       "       'Toyota Tercel', 'Mazda GLC 4', 'Plymouth Horizon 4',\n",
       "       'Ford Escort 4W', 'Ford Escort 2H', 'Volkswagen Jetta',\n",
       "       'Renault 18i', 'Honda Prelude', 'Datsun 200SX',\n",
       "       'Peugeot 505s Turbo Diesel', 'Saab 900s', 'Volvo Diesel',\n",
       "       'Toyota Cressida', 'Datsun 810 Maxima', 'Oldsmobile Cutlass LS',\n",
       "       'Ford Grenada gl', 'Chrysler Lebaron Salon', 'Chevrolet Cavalier',\n",
       "       'Chevrolet Cavalier Wagon', 'Chevrolet Cavalier 2-door',\n",
       "       'Pontiac J2000 SE Hatchback', 'Dodge Aries SE',\n",
       "       'Ford Fairmont Futura', 'AMC Concord DL', 'Volkswagen Rabbit l',\n",
       "       'Mazda GLC Custom l', 'Mazda GLC Custom', 'Plymouth Horizon Miser',\n",
       "       'Mercury Lynx l', 'Nissan Stanza XE', 'Honda Civic (auto)',\n",
       "       'Datsun 310 GX', 'Buick Century Limited',\n",
       "       'Oldsmobile Cutlass Ciera (diesel)', 'Chrysler Lebaron Medallion',\n",
       "       'Ford Grenada l', 'Toyota Celica GT', 'Dodge Charger 2.2',\n",
       "       'Chevrolet Camaro', 'Ford Mustang GL', 'Volkswagen Pickup',\n",
       "       'Dodge Rampage', 'Ford Ranger', 'Chevy S-10'], dtype=object)"
      ]
     },
     "execution_count": 25,
     "metadata": {},
     "output_type": "execute_result"
    }
   ],
   "source": [
    "car = data['Car'].unique()\n",
    "car"
   ]
  },
  {
   "cell_type": "code",
   "execution_count": 26,
   "metadata": {},
   "outputs": [
    {
     "data": {
      "text/plain": [
       "array([['18', '8', '307', '130', '3504', '12', '70'],\n",
       "       ['15', '8', '350', '165', '3693', '11.5', '70'],\n",
       "       ['18', '8', '318', '150', '3436', '11', '70'],\n",
       "       ['16', '8', '304', '150', '3433', '12', '70'],\n",
       "       ['17', '8', '302', '140', '3449', '10.5', '70']], dtype=object)"
      ]
     },
     "execution_count": 26,
     "metadata": {},
     "output_type": "execute_result"
    }
   ],
   "source": [
    "X = data[['MPG', 'Cylinders', 'Displacement', 'Horsepower', 'Weight','Acceleration', 'Model',]].values\n",
    "X[0:5]"
   ]
  },
  {
   "cell_type": "code",
   "execution_count": 27,
   "metadata": {},
   "outputs": [
    {
     "data": {
      "text/plain": [
       "1    US\n",
       "2    US\n",
       "3    US\n",
       "4    US\n",
       "5    US\n",
       "Name: Origin, dtype: object"
      ]
     },
     "execution_count": 27,
     "metadata": {},
     "output_type": "execute_result"
    }
   ],
   "source": [
    "y = data[\"Origin\"]\n",
    "y[0:5]"
   ]
  },
  {
   "cell_type": "code",
   "execution_count": 28,
   "metadata": {},
   "outputs": [],
   "source": [
    "from sklearn.model_selection import train_test_split"
   ]
  },
  {
   "cell_type": "code",
   "execution_count": 29,
   "metadata": {},
   "outputs": [],
   "source": [
    "X_trainset, X_testset, y_trainset, y_testset = train_test_split(X, y, test_size=0.3, random_state=3)"
   ]
  },
  {
   "cell_type": "code",
   "execution_count": 30,
   "metadata": {},
   "outputs": [
    {
     "name": "stdout",
     "output_type": "stream",
     "text": [
      "train (284, 7) (284,)\n"
     ]
    }
   ],
   "source": [
    "print('train', X_trainset.shape, y_trainset.shape)\n"
   ]
  },
  {
   "cell_type": "code",
   "execution_count": 31,
   "metadata": {},
   "outputs": [
    {
     "name": "stdout",
     "output_type": "stream",
     "text": [
      "Test (122, 7) (122,)\n"
     ]
    }
   ],
   "source": [
    "print('Test', X_testset.shape ,y_testset.shape)\n"
   ]
  },
  {
   "cell_type": "code",
   "execution_count": 32,
   "metadata": {},
   "outputs": [
    {
     "data": {
      "text/plain": [
       "DecisionTreeClassifier(class_weight=None, criterion='entropy', max_depth=4,\n",
       "            max_features=None, max_leaf_nodes=None,\n",
       "            min_impurity_decrease=0.0, min_impurity_split=None,\n",
       "            min_samples_leaf=1, min_samples_split=2,\n",
       "            min_weight_fraction_leaf=0.0, presort=False, random_state=None,\n",
       "            splitter='best')"
      ]
     },
     "execution_count": 32,
     "metadata": {},
     "output_type": "execute_result"
    }
   ],
   "source": [
    "drugTree = DecisionTreeClassifier(criterion=\"entropy\", max_depth = 4)\n",
    "drugTree"
   ]
  },
  {
   "cell_type": "code",
   "execution_count": 33,
   "metadata": {},
   "outputs": [
    {
     "data": {
      "text/plain": [
       "DecisionTreeClassifier(class_weight=None, criterion='entropy', max_depth=4,\n",
       "            max_features=None, max_leaf_nodes=None,\n",
       "            min_impurity_decrease=0.0, min_impurity_split=None,\n",
       "            min_samples_leaf=1, min_samples_split=2,\n",
       "            min_weight_fraction_leaf=0.0, presort=False, random_state=None,\n",
       "            splitter='best')"
      ]
     },
     "execution_count": 33,
     "metadata": {},
     "output_type": "execute_result"
    }
   ],
   "source": [
    "drugTree.fit(X_trainset,y_trainset)"
   ]
  },
  {
   "cell_type": "code",
   "execution_count": 34,
   "metadata": {},
   "outputs": [],
   "source": [
    "predTree = drugTree.predict(X_testset)"
   ]
  },
  {
   "cell_type": "code",
   "execution_count": 35,
   "metadata": {},
   "outputs": [],
   "source": [
    "predTree = drugTree.predict(X_testset)"
   ]
  },
  {
   "cell_type": "code",
   "execution_count": 36,
   "metadata": {},
   "outputs": [
    {
     "name": "stdout",
     "output_type": "stream",
     "text": [
      "['US' 'US' 'US' 'Japan' 'Japan']\n"
     ]
    }
   ],
   "source": [
    "print (predTree [0:5])\n"
   ]
  },
  {
   "cell_type": "code",
   "execution_count": 37,
   "metadata": {},
   "outputs": [
    {
     "name": "stdout",
     "output_type": "stream",
     "text": [
      "16         US\n",
      "74         US\n",
      "300        US\n",
      "241    Europe\n",
      "302     Japan\n",
      "Name: Origin, dtype: object\n"
     ]
    }
   ],
   "source": [
    "print (y_testset [0:5])"
   ]
  },
  {
   "cell_type": "code",
   "execution_count": 38,
   "metadata": {},
   "outputs": [
    {
     "name": "stdout",
     "output_type": "stream",
     "text": [
      "DecisionTrees's Accuracy:  0.737704918033\n"
     ]
    }
   ],
   "source": [
    "from sklearn import metrics\n",
    "import matplotlib.pyplot as plt\n",
    "print(\"DecisionTrees's Accuracy: \", metrics.accuracy_score(y_testset, predTree))"
   ]
  },
  {
   "cell_type": "code",
   "execution_count": null,
   "metadata": {},
   "outputs": [],
   "source": []
  }
 ],
 "metadata": {
  "kernelspec": {
   "display_name": "Python 3",
   "language": "python",
   "name": "python3"
  },
  "language_info": {
   "codemirror_mode": {
    "name": "ipython",
    "version": 3
   },
   "file_extension": ".py",
   "mimetype": "text/x-python",
   "name": "python",
   "nbconvert_exporter": "python",
   "pygments_lexer": "ipython3",
   "version": "3.6.4"
  }
 },
 "nbformat": 4,
 "nbformat_minor": 2
}
